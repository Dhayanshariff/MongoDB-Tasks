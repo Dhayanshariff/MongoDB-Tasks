{
  "nbformat": 4,
  "nbformat_minor": 0,
  "metadata": {
    "colab": {
      "provenance": [],
      "authorship_tag": "ABX9TyOTvuYodGm8WP81+pJU+/PJ",
      "include_colab_link": true
    },
    "kernelspec": {
      "name": "python3",
      "display_name": "Python 3"
    },
    "language_info": {
      "name": "python"
    }
  },
  "cells": [
    {
      "cell_type": "markdown",
      "metadata": {
        "id": "view-in-github",
        "colab_type": "text"
      },
      "source": [
        "<a href=\"https://colab.research.google.com/github/Dhayanshariff/MongoDB-Tasks/blob/main/Telephone_Directory/MongoDB_Telephone_Directory_CRUD.ipynb\" target=\"_parent\"><img src=\"https://colab.research.google.com/assets/colab-badge.svg\" alt=\"Open In Colab\"/></a>"
      ]
    },
    {
      "cell_type": "code",
      "execution_count": 11,
      "metadata": {
        "colab": {
          "base_uri": "https://localhost:8080/"
        },
        "id": "v_z7yL83Cy4n",
        "outputId": "369c770c-d14d-4083-daf9-324a92638ebc"
      },
      "outputs": [
        {
          "output_type": "stream",
          "name": "stdout",
          "text": [
            "\n",
            "WARNING: apt does not have a stable CLI interface. Use with caution in scripts.\n",
            "\n",
            " * Starting database mongodb\n",
            "   ...done.\n"
          ]
        }
      ],
      "source": [
        "# Import necessary modules.\n",
        "\n",
        "import pymongo\n",
        "!apt install mongodb > log\n",
        "!service mongodb start\n",
        "from pymongo import MongoClient\n",
        "myClient = MongoClient()"
      ]
    },
    {
      "cell_type": "code",
      "source": [
        "# Create a database using attribute style on a MongoClient instance. Declare a variable db and assign the new database as an attribute of the client.\n",
        "# Create a collection.\n",
        "\n",
        "db = myClient.Mongo_CRUD_Task\n",
        "Telephone_CRUD = db.Telephone_CRUD"
      ],
      "metadata": {
        "id": "ooNUnrw2GtFK"
      },
      "execution_count": 12,
      "outputs": []
    },
    {
      "cell_type": "code",
      "source": [
        "# For CRUD operation, create a directory which has fields like Name, Phone number, Place etc.,\n",
        "\n",
        "Directory = [{'_id':1,'Name': 'Dhayan','Phone':'0435-2443172','Mobile': '9765432568','City':'Chennai'},\n",
        "             {'_id':2,'Name': 'Shariff','Phone':'04362-2454672','Mobile': '9765412345','City':'Kumbakonam'},\n",
        "             {'_id':3,'Name': 'Hiba','Phone':'04675-2443446','Mobile': '9999932568','City':'Perambakkam'},\n",
        "             {'_id':4,'Name': 'Hifza','Phone':'0435-2467572','Mobile': '9345867299','City':'Chennai'},\n",
        "             {'_id':5,'Name': 'Rayeesah','Phone':'04172-2478672','Mobile': '8825809543','City':'Ranipet'}]"
      ],
      "metadata": {
        "id": "xW174G_LW-JK"
      },
      "execution_count": 15,
      "outputs": []
    },
    {
      "cell_type": "code",
      "source": [
        "# Insert the record into the collection.\n",
        "\n",
        "Telephone_CRUD.insert_many(Directory)"
      ],
      "metadata": {
        "colab": {
          "base_uri": "https://localhost:8080/"
        },
        "id": "5NOGXEd4Y-KI",
        "outputId": "76351888-2a83-4742-fb68-6609b2ded4a3"
      },
      "execution_count": 16,
      "outputs": [
        {
          "output_type": "execute_result",
          "data": {
            "text/plain": [
              "<pymongo.results.InsertManyResult at 0x7f7b5ef16ac0>"
            ]
          },
          "metadata": {},
          "execution_count": 16
        }
      ]
    },
    {
      "cell_type": "code",
      "source": [
        "# Make a query to find records you just created.\n",
        "\n",
        "for i in Telephone_CRUD.find():\n",
        "  print(i)"
      ],
      "metadata": {
        "colab": {
          "base_uri": "https://localhost:8080/"
        },
        "id": "Q8lHXxxiZLEZ",
        "outputId": "d026a316-09ef-4c49-bf7e-0ac6eeeea066"
      },
      "execution_count": 18,
      "outputs": [
        {
          "output_type": "stream",
          "name": "stdout",
          "text": [
            "{'_id': 1, 'Name': 'Dhayan', 'Phone': '0435-2443172', 'Mobile': '9765432568', 'City': 'Chennai'}\n",
            "{'_id': 2, 'Name': 'Shariff', 'Phone': '04362-2454672', 'Mobile': '9765412345', 'City': 'Kumbakonam'}\n",
            "{'_id': 3, 'Name': 'Hiba', 'Phone': '04675-2443446', 'Mobile': '9999932568', 'City': 'Perambakkam'}\n",
            "{'_id': 4, 'Name': 'Hifza', 'Phone': '0435-2467572', 'Mobile': '9345867299', 'City': 'Chennai'}\n",
            "{'_id': 5, 'Name': 'Rayeesah', 'Phone': '04172-2478672', 'Mobile': '8825809543', 'City': 'Ranipet'}\n"
          ]
        }
      ]
    },
    {
      "cell_type": "code",
      "source": [
        "# Modify the records, use the update_one() method. The update_one() method requires two arguments, query and update.\n",
        "\n",
        "Telephone_CRUD.update_one({'Name':'Hiba'},{'$set':{'Mobile':'9894681465'}})"
      ],
      "metadata": {
        "colab": {
          "base_uri": "https://localhost:8080/"
        },
        "id": "5vOOw4EyZ85h",
        "outputId": "2e08aa43-c8e8-4fda-95b3-527731218d76"
      },
      "execution_count": 21,
      "outputs": [
        {
          "output_type": "execute_result",
          "data": {
            "text/plain": [
              "<pymongo.results.UpdateResult at 0x7f7b62c92b20>"
            ]
          },
          "metadata": {},
          "execution_count": 21
        }
      ]
    },
    {
      "cell_type": "code",
      "source": [
        "for i in Telephone_CRUD.find():\n",
        "  print(i)"
      ],
      "metadata": {
        "colab": {
          "base_uri": "https://localhost:8080/"
        },
        "id": "zd5xC0ZJa_WZ",
        "outputId": "d4b986d5-273f-4c07-deff-96326344d6e0"
      },
      "execution_count": 22,
      "outputs": [
        {
          "output_type": "stream",
          "name": "stdout",
          "text": [
            "{'_id': 1, 'Name': 'Dhayan', 'Phone': '0435-2443172', 'Mobile': '9765432568', 'City': 'Chennai'}\n",
            "{'_id': 2, 'Name': 'Shariff', 'Phone': '04362-2454672', 'Mobile': '9765412345', 'City': 'Kumbakonam'}\n",
            "{'_id': 3, 'Name': 'Hiba', 'Phone': '04675-2443446', 'Mobile': '9894681465', 'City': 'Perambakkam'}\n",
            "{'_id': 4, 'Name': 'Hifza', 'Phone': '0435-2467572', 'Mobile': '9345867299', 'City': 'Chennai'}\n",
            "{'_id': 5, 'Name': 'Rayeesah', 'Phone': '04172-2478672', 'Mobile': '8825809543', 'City': 'Ranipet'}\n"
          ]
        }
      ]
    },
    {
      "cell_type": "code",
      "source": [
        "# Delete the record, use delete_one() method. delete_one() requires a query parameter which specifies the document to delete.\n",
        "\n",
        "Telephone_CRUD.delete_one({'Phone':'0435-2467572'})"
      ],
      "metadata": {
        "colab": {
          "base_uri": "https://localhost:8080/"
        },
        "id": "ZCrNWELCbGOy",
        "outputId": "5845110f-44c7-4f1e-92e9-b73f89172955"
      },
      "execution_count": 23,
      "outputs": [
        {
          "output_type": "execute_result",
          "data": {
            "text/plain": [
              "<pymongo.results.DeleteResult at 0x7f7b5eec0610>"
            ]
          },
          "metadata": {},
          "execution_count": 23
        }
      ]
    },
    {
      "cell_type": "code",
      "source": [
        "for i in Telephone_CRUD.find():\n",
        "  print(i)"
      ],
      "metadata": {
        "colab": {
          "base_uri": "https://localhost:8080/"
        },
        "id": "hmL-7LYhbb5Z",
        "outputId": "09ab3799-6006-4f3e-e8c9-18fbeb822453"
      },
      "execution_count": 24,
      "outputs": [
        {
          "output_type": "stream",
          "name": "stdout",
          "text": [
            "{'_id': 1, 'Name': 'Dhayan', 'Phone': '0435-2443172', 'Mobile': '9765432568', 'City': 'Chennai'}\n",
            "{'_id': 2, 'Name': 'Shariff', 'Phone': '04362-2454672', 'Mobile': '9765412345', 'City': 'Kumbakonam'}\n",
            "{'_id': 3, 'Name': 'Hiba', 'Phone': '04675-2443446', 'Mobile': '9894681465', 'City': 'Perambakkam'}\n",
            "{'_id': 5, 'Name': 'Rayeesah', 'Phone': '04172-2478672', 'Mobile': '8825809543', 'City': 'Ranipet'}\n"
          ]
        }
      ]
    }
  ]
}